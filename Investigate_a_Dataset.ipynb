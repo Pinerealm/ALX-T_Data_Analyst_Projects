{
 "cells": [
  {
   "cell_type": "markdown",
   "metadata": {},
   "source": [
    "# Project: Investigate a Dataset - Medical Appointment No-Shows\n",
    "\n",
    "## Table of Contents\n",
    "<ul>\n",
    "<li><a href=\"#intro\">Introduction</a></li>\n",
    "<li><a href=\"#wrangling\">Data Wrangling</a></li>\n",
    "<li><a href=\"#eda\">Exploratory Data Analysis</a></li>\n",
    "<li><a href=\"#conclusions\">Conclusions</a></li>\n",
    "</ul>"
   ]
  },
  {
   "cell_type": "markdown",
   "metadata": {},
   "source": [
    "<a id='intro'></a>\n",
    "## Introduction\n",
    "\n",
    "### Dataset Description \n",
    "\n",
    ">The **\"Medical Appointment No-shows\"** dataset consists of over a 100 thousand rows containing data about medical appointments at public health facilities in Brazil. It is hosted on Kaggle [here](https://www.kaggle.com/datasets/joniarroba/noshowappointments). Each row contains data about patient and appointment ID, the appointment date and the day it was scheduled, whether the patient had disabilities / illnesses and the neighbourhood where the appointment was scheduled to hold. The dependent variable here is a record of whether the patient showed up for the appointment or not.\n",
    "\n",
    "The  14 columns / features in this dataset are:\n",
    "\n",
    "1.  **PatientID:** The unique patient ID\n",
    "2.  **AppointmentID:** Identifier for each appointment\n",
    "3.  **Gender:** Male or female\n",
    "4.  **ScheduledDay:** The day and time a call was placed to schedule an appointment\n",
    "5.  **AppointmentDay:** The day to visit the health facility\n",
    "6.  **Age:** The age of the patient\n",
    "7.  **Neighbourhood:** Where the appointment took place\n",
    "8.  **Scholarship:** A recipient of the government scholarship for indigents or not\n",
    "9.  **Hipertension:** Do they have hypertension?\n",
    "10. **Diabetes:** Diabetic?\n",
    "11. **Alcoholism:** Alcoholic?\n",
    "12. **Handcap:** Handicapped?\n",
    "13. **SMS_received:** Did the person/patient receive SMS messages regarding the appointment?\n",
    "14. **No-show:** Whether the person met or missed the appointment; **\"No\"** means the person showed up for appointment while **\"Yes\"** means a missed appointment.\n",
    "\n",
    "\n",
    "### Question(s) for Analysis\n",
    ">This investigation aims to explore the age and gender characteristics of patients / clients who show up for their appointments as opposed to those who do not. Furthermore, I would examine if particular days of the week have more appointment days than others and identify possible trends in the number of appointments per day for the date range in the dataset.\n",
    "I would also look at a possible correlation between receiving an SMS or not to increased numbers showing up for their appointments."
   ]
  },
  {
   "cell_type": "code",
   "execution_count": 1,
   "metadata": {},
   "outputs": [],
   "source": [
    "# Import libraries\n",
    "import numpy as np\n",
    "import pandas as pd\n",
    "import matplotlib.pyplot as plt\n",
    "import seaborn as sns\n",
    "\n",
    "# Ensure inline rendering of plots\n",
    "% matplotlib inline"
   ]
  },
  {
   "cell_type": "markdown",
   "metadata": {},
   "source": [
    "<a id='wrangling'></a>\n",
    "## Data Wrangling\n",
    "\n",
    "### General Properties"
   ]
  },
  {
   "cell_type": "code",
   "execution_count": 2,
   "metadata": {},
   "outputs": [
    {
     "data": {
      "text/html": [
       "<div>\n",
       "<style scoped>\n",
       "    .dataframe tbody tr th:only-of-type {\n",
       "        vertical-align: middle;\n",
       "    }\n",
       "\n",
       "    .dataframe tbody tr th {\n",
       "        vertical-align: top;\n",
       "    }\n",
       "\n",
       "    .dataframe thead th {\n",
       "        text-align: right;\n",
       "    }\n",
       "</style>\n",
       "<table border=\"1\" class=\"dataframe\">\n",
       "  <thead>\n",
       "    <tr style=\"text-align: right;\">\n",
       "      <th></th>\n",
       "      <th>PatientId</th>\n",
       "      <th>AppointmentID</th>\n",
       "      <th>Gender</th>\n",
       "      <th>ScheduledDay</th>\n",
       "      <th>AppointmentDay</th>\n",
       "      <th>Age</th>\n",
       "      <th>Neighbourhood</th>\n",
       "      <th>Scholarship</th>\n",
       "      <th>Hipertension</th>\n",
       "      <th>Diabetes</th>\n",
       "      <th>Alcoholism</th>\n",
       "      <th>Handcap</th>\n",
       "      <th>SMS_received</th>\n",
       "      <th>No-show</th>\n",
       "    </tr>\n",
       "  </thead>\n",
       "  <tbody>\n",
       "    <tr>\n",
       "      <th>0</th>\n",
       "      <td>2.987250e+13</td>\n",
       "      <td>5642903</td>\n",
       "      <td>F</td>\n",
       "      <td>2016-04-29T18:38:08Z</td>\n",
       "      <td>2016-04-29T00:00:00Z</td>\n",
       "      <td>62</td>\n",
       "      <td>JARDIM DA PENHA</td>\n",
       "      <td>0</td>\n",
       "      <td>1</td>\n",
       "      <td>0</td>\n",
       "      <td>0</td>\n",
       "      <td>0</td>\n",
       "      <td>0</td>\n",
       "      <td>No</td>\n",
       "    </tr>\n",
       "    <tr>\n",
       "      <th>1</th>\n",
       "      <td>5.589978e+14</td>\n",
       "      <td>5642503</td>\n",
       "      <td>M</td>\n",
       "      <td>2016-04-29T16:08:27Z</td>\n",
       "      <td>2016-04-29T00:00:00Z</td>\n",
       "      <td>56</td>\n",
       "      <td>JARDIM DA PENHA</td>\n",
       "      <td>0</td>\n",
       "      <td>0</td>\n",
       "      <td>0</td>\n",
       "      <td>0</td>\n",
       "      <td>0</td>\n",
       "      <td>0</td>\n",
       "      <td>No</td>\n",
       "    </tr>\n",
       "    <tr>\n",
       "      <th>2</th>\n",
       "      <td>4.262962e+12</td>\n",
       "      <td>5642549</td>\n",
       "      <td>F</td>\n",
       "      <td>2016-04-29T16:19:04Z</td>\n",
       "      <td>2016-04-29T00:00:00Z</td>\n",
       "      <td>62</td>\n",
       "      <td>MATA DA PRAIA</td>\n",
       "      <td>0</td>\n",
       "      <td>0</td>\n",
       "      <td>0</td>\n",
       "      <td>0</td>\n",
       "      <td>0</td>\n",
       "      <td>0</td>\n",
       "      <td>No</td>\n",
       "    </tr>\n",
       "  </tbody>\n",
       "</table>\n",
       "</div>"
      ],
      "text/plain": [
       "      PatientId  AppointmentID Gender          ScheduledDay  \\\n",
       "0  2.987250e+13        5642903      F  2016-04-29T18:38:08Z   \n",
       "1  5.589978e+14        5642503      M  2016-04-29T16:08:27Z   \n",
       "2  4.262962e+12        5642549      F  2016-04-29T16:19:04Z   \n",
       "\n",
       "         AppointmentDay  Age    Neighbourhood  Scholarship  Hipertension  \\\n",
       "0  2016-04-29T00:00:00Z   62  JARDIM DA PENHA            0             1   \n",
       "1  2016-04-29T00:00:00Z   56  JARDIM DA PENHA            0             0   \n",
       "2  2016-04-29T00:00:00Z   62    MATA DA PRAIA            0             0   \n",
       "\n",
       "   Diabetes  Alcoholism  Handcap  SMS_received No-show  \n",
       "0         0           0        0             0      No  \n",
       "1         0           0        0             0      No  \n",
       "2         0           0        0             0      No  "
      ]
     },
     "execution_count": 2,
     "metadata": {},
     "output_type": "execute_result"
    }
   ],
   "source": [
    "# Load data and print out a few lines for inspection.\n",
    "data = pd.read_csv('Database_No_show_appointments/noshowappointments-kagglev2-may-2016.csv')\n",
    "data.head(3)"
   ]
  },
  {
   "cell_type": "code",
   "execution_count": 3,
   "metadata": {},
   "outputs": [
    {
     "name": "stdout",
     "output_type": "stream",
     "text": [
      "No of rows: 110527\n",
      "No of columns: 14\n"
     ]
    }
   ],
   "source": [
    "# Get no of rows and columns\n",
    "print('No of rows:', data.shape[0])\n",
    "print('No of columns:', data.shape[1])"
   ]
  },
  {
   "cell_type": "code",
   "execution_count": 4,
   "metadata": {},
   "outputs": [
    {
     "name": "stdout",
     "output_type": "stream",
     "text": [
      "<class 'pandas.core.frame.DataFrame'>\n",
      "RangeIndex: 110527 entries, 0 to 110526\n",
      "Data columns (total 14 columns):\n",
      "PatientId         110527 non-null float64\n",
      "AppointmentID     110527 non-null int64\n",
      "Gender            110527 non-null object\n",
      "ScheduledDay      110527 non-null object\n",
      "AppointmentDay    110527 non-null object\n",
      "Age               110527 non-null int64\n",
      "Neighbourhood     110527 non-null object\n",
      "Scholarship       110527 non-null int64\n",
      "Hipertension      110527 non-null int64\n",
      "Diabetes          110527 non-null int64\n",
      "Alcoholism        110527 non-null int64\n",
      "Handcap           110527 non-null int64\n",
      "SMS_received      110527 non-null int64\n",
      "No-show           110527 non-null object\n",
      "dtypes: float64(1), int64(8), object(5)\n",
      "memory usage: 11.8+ MB\n"
     ]
    }
   ],
   "source": [
    "# General info about the DataFrame\n",
    "data.info()"
   ]
  },
  {
   "cell_type": "markdown",
   "metadata": {},
   "source": [
    "* There are no missing values in this dataset.\n",
    "* The `ScheduledDay` and `AppointmentDay` columns need to be converted from object to the datetime data type.\n",
    "* I prefer that the `PatientId` and `AppointmentID` columns be converted to the string (or object) data type since they are unique identifiers not quantitative variables; calculating descriptive statistics, e.g. mean, for these columns is not meaninful\n",
    "* Some columns need spelling corrections e.g. `Hipertension` and `Handcap`.\n",
    "* To ensure consistency in column labelling, I will seperate words with underscores after making column names all lower case.\n",
    "* I will replace the values in the columns, `Scholarship` to `SMS_received`, with 'Yes' or 'No'. The current values are useful for machine learning modelling but we are only limited to descriptive statistics here."
   ]
  },
  {
   "cell_type": "code",
   "execution_count": 5,
   "metadata": {},
   "outputs": [
    {
     "data": {
      "text/html": [
       "<div>\n",
       "<style scoped>\n",
       "    .dataframe tbody tr th:only-of-type {\n",
       "        vertical-align: middle;\n",
       "    }\n",
       "\n",
       "    .dataframe tbody tr th {\n",
       "        vertical-align: top;\n",
       "    }\n",
       "\n",
       "    .dataframe thead th {\n",
       "        text-align: right;\n",
       "    }\n",
       "</style>\n",
       "<table border=\"1\" class=\"dataframe\">\n",
       "  <thead>\n",
       "    <tr style=\"text-align: right;\">\n",
       "      <th></th>\n",
       "      <th>count</th>\n",
       "      <th>unique</th>\n",
       "      <th>top</th>\n",
       "      <th>freq</th>\n",
       "      <th>mean</th>\n",
       "      <th>std</th>\n",
       "      <th>min</th>\n",
       "      <th>25%</th>\n",
       "      <th>50%</th>\n",
       "      <th>75%</th>\n",
       "      <th>max</th>\n",
       "    </tr>\n",
       "  </thead>\n",
       "  <tbody>\n",
       "    <tr>\n",
       "      <th>PatientId</th>\n",
       "      <td>110527</td>\n",
       "      <td>NaN</td>\n",
       "      <td>NaN</td>\n",
       "      <td>NaN</td>\n",
       "      <td>1.47496e+14</td>\n",
       "      <td>2.56095e+14</td>\n",
       "      <td>39217.8</td>\n",
       "      <td>4.17261e+12</td>\n",
       "      <td>3.17318e+13</td>\n",
       "      <td>9.43917e+13</td>\n",
       "      <td>9.99982e+14</td>\n",
       "    </tr>\n",
       "    <tr>\n",
       "      <th>AppointmentID</th>\n",
       "      <td>110527</td>\n",
       "      <td>NaN</td>\n",
       "      <td>NaN</td>\n",
       "      <td>NaN</td>\n",
       "      <td>5.67531e+06</td>\n",
       "      <td>71295.8</td>\n",
       "      <td>5.03023e+06</td>\n",
       "      <td>5.64029e+06</td>\n",
       "      <td>5.68057e+06</td>\n",
       "      <td>5.72552e+06</td>\n",
       "      <td>5.79048e+06</td>\n",
       "    </tr>\n",
       "    <tr>\n",
       "      <th>Gender</th>\n",
       "      <td>110527</td>\n",
       "      <td>2</td>\n",
       "      <td>F</td>\n",
       "      <td>71840</td>\n",
       "      <td>NaN</td>\n",
       "      <td>NaN</td>\n",
       "      <td>NaN</td>\n",
       "      <td>NaN</td>\n",
       "      <td>NaN</td>\n",
       "      <td>NaN</td>\n",
       "      <td>NaN</td>\n",
       "    </tr>\n",
       "    <tr>\n",
       "      <th>ScheduledDay</th>\n",
       "      <td>110527</td>\n",
       "      <td>103549</td>\n",
       "      <td>2016-05-06T07:09:54Z</td>\n",
       "      <td>24</td>\n",
       "      <td>NaN</td>\n",
       "      <td>NaN</td>\n",
       "      <td>NaN</td>\n",
       "      <td>NaN</td>\n",
       "      <td>NaN</td>\n",
       "      <td>NaN</td>\n",
       "      <td>NaN</td>\n",
       "    </tr>\n",
       "    <tr>\n",
       "      <th>AppointmentDay</th>\n",
       "      <td>110527</td>\n",
       "      <td>27</td>\n",
       "      <td>2016-06-06T00:00:00Z</td>\n",
       "      <td>4692</td>\n",
       "      <td>NaN</td>\n",
       "      <td>NaN</td>\n",
       "      <td>NaN</td>\n",
       "      <td>NaN</td>\n",
       "      <td>NaN</td>\n",
       "      <td>NaN</td>\n",
       "      <td>NaN</td>\n",
       "    </tr>\n",
       "    <tr>\n",
       "      <th>Age</th>\n",
       "      <td>110527</td>\n",
       "      <td>NaN</td>\n",
       "      <td>NaN</td>\n",
       "      <td>NaN</td>\n",
       "      <td>37.0889</td>\n",
       "      <td>23.1102</td>\n",
       "      <td>-1</td>\n",
       "      <td>18</td>\n",
       "      <td>37</td>\n",
       "      <td>55</td>\n",
       "      <td>115</td>\n",
       "    </tr>\n",
       "    <tr>\n",
       "      <th>Neighbourhood</th>\n",
       "      <td>110527</td>\n",
       "      <td>81</td>\n",
       "      <td>JARDIM CAMBURI</td>\n",
       "      <td>7717</td>\n",
       "      <td>NaN</td>\n",
       "      <td>NaN</td>\n",
       "      <td>NaN</td>\n",
       "      <td>NaN</td>\n",
       "      <td>NaN</td>\n",
       "      <td>NaN</td>\n",
       "      <td>NaN</td>\n",
       "    </tr>\n",
       "    <tr>\n",
       "      <th>Scholarship</th>\n",
       "      <td>110527</td>\n",
       "      <td>NaN</td>\n",
       "      <td>NaN</td>\n",
       "      <td>NaN</td>\n",
       "      <td>0.0982656</td>\n",
       "      <td>0.297675</td>\n",
       "      <td>0</td>\n",
       "      <td>0</td>\n",
       "      <td>0</td>\n",
       "      <td>0</td>\n",
       "      <td>1</td>\n",
       "    </tr>\n",
       "    <tr>\n",
       "      <th>Hipertension</th>\n",
       "      <td>110527</td>\n",
       "      <td>NaN</td>\n",
       "      <td>NaN</td>\n",
       "      <td>NaN</td>\n",
       "      <td>0.197246</td>\n",
       "      <td>0.397921</td>\n",
       "      <td>0</td>\n",
       "      <td>0</td>\n",
       "      <td>0</td>\n",
       "      <td>0</td>\n",
       "      <td>1</td>\n",
       "    </tr>\n",
       "    <tr>\n",
       "      <th>Diabetes</th>\n",
       "      <td>110527</td>\n",
       "      <td>NaN</td>\n",
       "      <td>NaN</td>\n",
       "      <td>NaN</td>\n",
       "      <td>0.0718648</td>\n",
       "      <td>0.258265</td>\n",
       "      <td>0</td>\n",
       "      <td>0</td>\n",
       "      <td>0</td>\n",
       "      <td>0</td>\n",
       "      <td>1</td>\n",
       "    </tr>\n",
       "    <tr>\n",
       "      <th>Alcoholism</th>\n",
       "      <td>110527</td>\n",
       "      <td>NaN</td>\n",
       "      <td>NaN</td>\n",
       "      <td>NaN</td>\n",
       "      <td>0.0303998</td>\n",
       "      <td>0.171686</td>\n",
       "      <td>0</td>\n",
       "      <td>0</td>\n",
       "      <td>0</td>\n",
       "      <td>0</td>\n",
       "      <td>1</td>\n",
       "    </tr>\n",
       "    <tr>\n",
       "      <th>Handcap</th>\n",
       "      <td>110527</td>\n",
       "      <td>NaN</td>\n",
       "      <td>NaN</td>\n",
       "      <td>NaN</td>\n",
       "      <td>0.022248</td>\n",
       "      <td>0.161543</td>\n",
       "      <td>0</td>\n",
       "      <td>0</td>\n",
       "      <td>0</td>\n",
       "      <td>0</td>\n",
       "      <td>4</td>\n",
       "    </tr>\n",
       "    <tr>\n",
       "      <th>SMS_received</th>\n",
       "      <td>110527</td>\n",
       "      <td>NaN</td>\n",
       "      <td>NaN</td>\n",
       "      <td>NaN</td>\n",
       "      <td>0.321026</td>\n",
       "      <td>0.466873</td>\n",
       "      <td>0</td>\n",
       "      <td>0</td>\n",
       "      <td>0</td>\n",
       "      <td>1</td>\n",
       "      <td>1</td>\n",
       "    </tr>\n",
       "    <tr>\n",
       "      <th>No-show</th>\n",
       "      <td>110527</td>\n",
       "      <td>2</td>\n",
       "      <td>No</td>\n",
       "      <td>88208</td>\n",
       "      <td>NaN</td>\n",
       "      <td>NaN</td>\n",
       "      <td>NaN</td>\n",
       "      <td>NaN</td>\n",
       "      <td>NaN</td>\n",
       "      <td>NaN</td>\n",
       "      <td>NaN</td>\n",
       "    </tr>\n",
       "  </tbody>\n",
       "</table>\n",
       "</div>"
      ],
      "text/plain": [
       "                 count  unique                   top   freq         mean  \\\n",
       "PatientId       110527     NaN                   NaN    NaN  1.47496e+14   \n",
       "AppointmentID   110527     NaN                   NaN    NaN  5.67531e+06   \n",
       "Gender          110527       2                     F  71840          NaN   \n",
       "ScheduledDay    110527  103549  2016-05-06T07:09:54Z     24          NaN   \n",
       "AppointmentDay  110527      27  2016-06-06T00:00:00Z   4692          NaN   \n",
       "Age             110527     NaN                   NaN    NaN      37.0889   \n",
       "Neighbourhood   110527      81        JARDIM CAMBURI   7717          NaN   \n",
       "Scholarship     110527     NaN                   NaN    NaN    0.0982656   \n",
       "Hipertension    110527     NaN                   NaN    NaN     0.197246   \n",
       "Diabetes        110527     NaN                   NaN    NaN    0.0718648   \n",
       "Alcoholism      110527     NaN                   NaN    NaN    0.0303998   \n",
       "Handcap         110527     NaN                   NaN    NaN     0.022248   \n",
       "SMS_received    110527     NaN                   NaN    NaN     0.321026   \n",
       "No-show         110527       2                    No  88208          NaN   \n",
       "\n",
       "                        std          min          25%          50%  \\\n",
       "PatientId       2.56095e+14      39217.8  4.17261e+12  3.17318e+13   \n",
       "AppointmentID       71295.8  5.03023e+06  5.64029e+06  5.68057e+06   \n",
       "Gender                  NaN          NaN          NaN          NaN   \n",
       "ScheduledDay            NaN          NaN          NaN          NaN   \n",
       "AppointmentDay          NaN          NaN          NaN          NaN   \n",
       "Age                 23.1102           -1           18           37   \n",
       "Neighbourhood           NaN          NaN          NaN          NaN   \n",
       "Scholarship        0.297675            0            0            0   \n",
       "Hipertension       0.397921            0            0            0   \n",
       "Diabetes           0.258265            0            0            0   \n",
       "Alcoholism         0.171686            0            0            0   \n",
       "Handcap            0.161543            0            0            0   \n",
       "SMS_received       0.466873            0            0            0   \n",
       "No-show                 NaN          NaN          NaN          NaN   \n",
       "\n",
       "                        75%          max  \n",
       "PatientId       9.43917e+13  9.99982e+14  \n",
       "AppointmentID   5.72552e+06  5.79048e+06  \n",
       "Gender                  NaN          NaN  \n",
       "ScheduledDay            NaN          NaN  \n",
       "AppointmentDay          NaN          NaN  \n",
       "Age                      55          115  \n",
       "Neighbourhood           NaN          NaN  \n",
       "Scholarship               0            1  \n",
       "Hipertension              0            1  \n",
       "Diabetes                  0            1  \n",
       "Alcoholism                0            1  \n",
       "Handcap                   0            4  \n",
       "SMS_received              1            1  \n",
       "No-show                 NaN          NaN  "
      ]
     },
     "execution_count": 5,
     "metadata": {},
     "output_type": "execute_result"
    }
   ],
   "source": [
    "# Describe the data including non-numerical columns\n",
    "data.describe(include='all').T"
   ]
  },
  {
   "cell_type": "markdown",
   "metadata": {},
   "source": [
    "We note the following from the above:\n",
    "* There are more females in this dataset: 71,840\n",
    "* There are no specific times given on the appointment days. This may be due to the fact that the client can walk in anytime during official hours on their appointment days.\n",
    "* The mean age is 37.09 with a minimum age of -1. This is impossible but since the median age is also 37, this suggest an outlier that needs to be investigated for possible removal or imputation.\n",
    "* 75% of patients are below 55 years\n",
    "* The maximum age is 115 years. Are there ages equal to 0 in this dataset?\n",
    "* There are 81 unique neighbourhoods in this dataset with **Jardim Camburi** being the most frequent appointment neighbourhood.\n",
    "* The `Handcap` column has a max value of 4 but it should be binary from the author's official documentation. Two conflicting statements from the dataset author regarding this can be seen [here](https://www.kaggle.com/datasets/joniarroba/noshowappointments/discussion/29699) and [here](https://www.kaggle.com/datasets/joniarroba/noshowappointments/discussion/30844). Further exploration should help to make a decision on this.\n",
    "* Most of the appointments (88,208) were met."
   ]
  },
  {
   "cell_type": "code",
   "execution_count": 6,
   "metadata": {},
   "outputs": [
    {
     "name": "stdout",
     "output_type": "stream",
     "text": [
      "No of duplicated rows: 0\n"
     ]
    }
   ],
   "source": [
    "# Are there duplicated rows?\n",
    "print('No of duplicated rows:', data.duplicated().sum())"
   ]
  },
  {
   "cell_type": "code",
   "execution_count": 7,
   "metadata": {},
   "outputs": [
    {
     "name": "stdout",
     "output_type": "stream",
     "text": [
      "No of unique values in the `PatientId` column: 62,299\n",
      "No of unique values in the `AppointmentID` column: 110,527\n"
     ]
    }
   ],
   "source": [
    "# Get no of unique values in the first two columns\n",
    "print('No of unique values in the `{}` column: {:,}'.format(data.columns[0], data.PatientId.nunique()))\n",
    "print('No of unique values in the `{}` column: {:,}'.format(data.columns[1], data.AppointmentID.nunique()))"
   ]
  },
  {
   "cell_type": "code",
   "execution_count": 8,
   "metadata": {},
   "outputs": [
    {
     "data": {
      "text/plain": [
       "88"
      ]
     },
     "execution_count": 8,
     "metadata": {},
     "output_type": "execute_result"
    }
   ],
   "source": [
    "# Check the most number of appointments scheduled by one person\n",
    "data.PatientId.value_counts().max()"
   ]
  },
  {
   "cell_type": "markdown",
   "metadata": {},
   "source": [
    "* There are no duplicate rows.\n",
    "* 62,299 patients are captured in the data\n",
    "* Each appointment ID is unique but there are patients with repeat appointments. We could further explore why a patient has 88 appointments over the data collection period. "
   ]
  },
  {
   "cell_type": "code",
   "execution_count": 9,
   "metadata": {},
   "outputs": [
    {
     "data": {
      "text/html": [
       "<div>\n",
       "<style scoped>\n",
       "    .dataframe tbody tr th:only-of-type {\n",
       "        vertical-align: middle;\n",
       "    }\n",
       "\n",
       "    .dataframe tbody tr th {\n",
       "        vertical-align: top;\n",
       "    }\n",
       "\n",
       "    .dataframe thead th {\n",
       "        text-align: right;\n",
       "    }\n",
       "</style>\n",
       "<table border=\"1\" class=\"dataframe\">\n",
       "  <thead>\n",
       "    <tr style=\"text-align: right;\">\n",
       "      <th></th>\n",
       "      <th>PatientId</th>\n",
       "      <th>AppointmentID</th>\n",
       "      <th>Gender</th>\n",
       "      <th>ScheduledDay</th>\n",
       "      <th>AppointmentDay</th>\n",
       "      <th>Age</th>\n",
       "      <th>Neighbourhood</th>\n",
       "      <th>Scholarship</th>\n",
       "      <th>Hipertension</th>\n",
       "      <th>Diabetes</th>\n",
       "      <th>Alcoholism</th>\n",
       "      <th>Handcap</th>\n",
       "      <th>SMS_received</th>\n",
       "      <th>No-show</th>\n",
       "    </tr>\n",
       "  </thead>\n",
       "  <tbody>\n",
       "    <tr>\n",
       "      <th>99832</th>\n",
       "      <td>4.659432e+14</td>\n",
       "      <td>5775010</td>\n",
       "      <td>F</td>\n",
       "      <td>2016-06-06T08:58:13Z</td>\n",
       "      <td>2016-06-06T00:00:00Z</td>\n",
       "      <td>-1</td>\n",
       "      <td>ROMÃO</td>\n",
       "      <td>0</td>\n",
       "      <td>0</td>\n",
       "      <td>0</td>\n",
       "      <td>0</td>\n",
       "      <td>0</td>\n",
       "      <td>0</td>\n",
       "      <td>No</td>\n",
       "    </tr>\n",
       "  </tbody>\n",
       "</table>\n",
       "</div>"
      ],
      "text/plain": [
       "          PatientId  AppointmentID Gender          ScheduledDay  \\\n",
       "99832  4.659432e+14        5775010      F  2016-06-06T08:58:13Z   \n",
       "\n",
       "             AppointmentDay  Age Neighbourhood  Scholarship  Hipertension  \\\n",
       "99832  2016-06-06T00:00:00Z   -1         ROMÃO            0             0   \n",
       "\n",
       "       Diabetes  Alcoholism  Handcap  SMS_received No-show  \n",
       "99832         0           0        0             0      No  "
      ]
     },
     "execution_count": 9,
     "metadata": {},
     "output_type": "execute_result"
    }
   ],
   "source": [
    "# View row(s) where age equals -1\n",
    "data.query('Age == -1')"
   ]
  },
  {
   "cell_type": "markdown",
   "metadata": {},
   "source": [
    "* This row can be dropped since it's most likely a single data entry error"
   ]
  },
  {
   "cell_type": "code",
   "execution_count": 10,
   "metadata": {},
   "outputs": [
    {
     "name": "stdout",
     "output_type": "stream",
     "text": [
      "No of samples with age equal 0: 3539\n"
     ]
    }
   ],
   "source": [
    "# Check if there are ages equal to zero\n",
    "print('No of samples with age equal 0:', data.query('Age == 0').shape[0])"
   ]
  },
  {
   "cell_type": "code",
   "execution_count": 11,
   "metadata": {},
   "outputs": [
    {
     "data": {
      "text/html": [
       "<div>\n",
       "<style scoped>\n",
       "    .dataframe tbody tr th:only-of-type {\n",
       "        vertical-align: middle;\n",
       "    }\n",
       "\n",
       "    .dataframe tbody tr th {\n",
       "        vertical-align: top;\n",
       "    }\n",
       "\n",
       "    .dataframe thead th {\n",
       "        text-align: right;\n",
       "    }\n",
       "</style>\n",
       "<table border=\"1\" class=\"dataframe\">\n",
       "  <thead>\n",
       "    <tr style=\"text-align: right;\">\n",
       "      <th></th>\n",
       "      <th>PatientId</th>\n",
       "      <th>AppointmentID</th>\n",
       "      <th>Gender</th>\n",
       "      <th>ScheduledDay</th>\n",
       "      <th>AppointmentDay</th>\n",
       "      <th>Age</th>\n",
       "      <th>Neighbourhood</th>\n",
       "      <th>Scholarship</th>\n",
       "      <th>Hipertension</th>\n",
       "      <th>Diabetes</th>\n",
       "      <th>Alcoholism</th>\n",
       "      <th>Handcap</th>\n",
       "      <th>SMS_received</th>\n",
       "      <th>No-show</th>\n",
       "    </tr>\n",
       "  </thead>\n",
       "  <tbody>\n",
       "    <tr>\n",
       "      <th>31497</th>\n",
       "      <td>1.438856e+13</td>\n",
       "      <td>5664003</td>\n",
       "      <td>F</td>\n",
       "      <td>2016-05-05T10:55:09Z</td>\n",
       "      <td>2016-05-19T00:00:00Z</td>\n",
       "      <td>0</td>\n",
       "      <td>VILA RUBIM</td>\n",
       "      <td>0</td>\n",
       "      <td>0</td>\n",
       "      <td>0</td>\n",
       "      <td>0</td>\n",
       "      <td>0</td>\n",
       "      <td>0</td>\n",
       "      <td>No</td>\n",
       "    </tr>\n",
       "    <tr>\n",
       "      <th>27522</th>\n",
       "      <td>6.848454e+14</td>\n",
       "      <td>5555094</td>\n",
       "      <td>F</td>\n",
       "      <td>2016-04-07T09:28:46Z</td>\n",
       "      <td>2016-05-05T00:00:00Z</td>\n",
       "      <td>0</td>\n",
       "      <td>ILHA DE SANTA MARIA</td>\n",
       "      <td>0</td>\n",
       "      <td>0</td>\n",
       "      <td>0</td>\n",
       "      <td>0</td>\n",
       "      <td>0</td>\n",
       "      <td>1</td>\n",
       "      <td>No</td>\n",
       "    </tr>\n",
       "    <tr>\n",
       "      <th>97856</th>\n",
       "      <td>9.251253e+13</td>\n",
       "      <td>5776251</td>\n",
       "      <td>F</td>\n",
       "      <td>2016-06-06T10:44:05Z</td>\n",
       "      <td>2016-06-07T00:00:00Z</td>\n",
       "      <td>0</td>\n",
       "      <td>SÃO JOSÉ</td>\n",
       "      <td>0</td>\n",
       "      <td>0</td>\n",
       "      <td>0</td>\n",
       "      <td>0</td>\n",
       "      <td>0</td>\n",
       "      <td>0</td>\n",
       "      <td>No</td>\n",
       "    </tr>\n",
       "    <tr>\n",
       "      <th>104053</th>\n",
       "      <td>1.788818e+13</td>\n",
       "      <td>5684715</td>\n",
       "      <td>M</td>\n",
       "      <td>2016-05-11T09:01:19Z</td>\n",
       "      <td>2016-06-02T00:00:00Z</td>\n",
       "      <td>0</td>\n",
       "      <td>SANTA MARTHA</td>\n",
       "      <td>0</td>\n",
       "      <td>0</td>\n",
       "      <td>0</td>\n",
       "      <td>0</td>\n",
       "      <td>0</td>\n",
       "      <td>1</td>\n",
       "      <td>No</td>\n",
       "    </tr>\n",
       "    <tr>\n",
       "      <th>69996</th>\n",
       "      <td>1.781927e+12</td>\n",
       "      <td>5688787</td>\n",
       "      <td>M</td>\n",
       "      <td>2016-05-12T07:39:12Z</td>\n",
       "      <td>2016-05-12T00:00:00Z</td>\n",
       "      <td>0</td>\n",
       "      <td>SANTOS REIS</td>\n",
       "      <td>0</td>\n",
       "      <td>0</td>\n",
       "      <td>0</td>\n",
       "      <td>0</td>\n",
       "      <td>0</td>\n",
       "      <td>0</td>\n",
       "      <td>No</td>\n",
       "    </tr>\n",
       "  </tbody>\n",
       "</table>\n",
       "</div>"
      ],
      "text/plain": [
       "           PatientId  AppointmentID Gender          ScheduledDay  \\\n",
       "31497   1.438856e+13        5664003      F  2016-05-05T10:55:09Z   \n",
       "27522   6.848454e+14        5555094      F  2016-04-07T09:28:46Z   \n",
       "97856   9.251253e+13        5776251      F  2016-06-06T10:44:05Z   \n",
       "104053  1.788818e+13        5684715      M  2016-05-11T09:01:19Z   \n",
       "69996   1.781927e+12        5688787      M  2016-05-12T07:39:12Z   \n",
       "\n",
       "              AppointmentDay  Age        Neighbourhood  Scholarship  \\\n",
       "31497   2016-05-19T00:00:00Z    0           VILA RUBIM            0   \n",
       "27522   2016-05-05T00:00:00Z    0  ILHA DE SANTA MARIA            0   \n",
       "97856   2016-06-07T00:00:00Z    0             SÃO JOSÉ            0   \n",
       "104053  2016-06-02T00:00:00Z    0         SANTA MARTHA            0   \n",
       "69996   2016-05-12T00:00:00Z    0          SANTOS REIS            0   \n",
       "\n",
       "        Hipertension  Diabetes  Alcoholism  Handcap  SMS_received No-show  \n",
       "31497              0         0           0        0             0      No  \n",
       "27522              0         0           0        0             1      No  \n",
       "97856              0         0           0        0             0      No  \n",
       "104053             0         0           0        0             1      No  \n",
       "69996              0         0           0        0             0      No  "
      ]
     },
     "execution_count": 11,
     "metadata": {},
     "output_type": "execute_result"
    }
   ],
   "source": [
    "# View a sample of these rows\n",
    "data.query('Age == 0').sample(5)"
   ]
  },
  {
   "cell_type": "code",
   "execution_count": 12,
   "metadata": {},
   "outputs": [
    {
     "data": {
      "text/plain": [
       "PatientId         2082\n",
       "AppointmentID     3539\n",
       "Gender               2\n",
       "ScheduledDay      3517\n",
       "AppointmentDay      26\n",
       "Age                  1\n",
       "Neighbourhood       75\n",
       "Scholarship          2\n",
       "Hipertension         1\n",
       "Diabetes             1\n",
       "Alcoholism           1\n",
       "Handcap              2\n",
       "SMS_received         2\n",
       "No-show              2\n",
       "dtype: int64"
      ]
     },
     "execution_count": 12,
     "metadata": {},
     "output_type": "execute_result"
    }
   ],
   "source": [
    "# Check for number of uniques values per column (or variable) in this subset of ages\n",
    "data.query('Age == 0').nunique()"
   ]
  },
  {
   "cell_type": "markdown",
   "metadata": {},
   "source": [
    "* There are about 3500 patients in this group\n",
    "* All of them have **no** hypertension, diabetes or problems of alcoholism as seen in the number of unique values in these columns; I assume this means they are children less than a year old, so I will leave these rows in the data."
   ]
  },
  {
   "cell_type": "code",
   "execution_count": 13,
   "metadata": {},
   "outputs": [
    {
     "data": {
      "text/plain": [
       "0    108286\n",
       "1      2042\n",
       "2       183\n",
       "3        13\n",
       "4         3\n",
       "Name: Handcap, dtype: int64"
      ]
     },
     "execution_count": 13,
     "metadata": {},
     "output_type": "execute_result"
    }
   ],
   "source": [
    "# What is the frequency of values in the `Handcap` column?\n",
    "data.Handcap.value_counts()"
   ]
  },
  {
   "cell_type": "markdown",
   "metadata": {},
   "source": [
    "* Most patients have no handicap.\n",
    "* Assuming one of the explanations given by the dataset author that values above 1 are errors, adding them to category 1 will not significantly change the proportion of people with handicap to those without. This will also be in keeping with the second explanation in which the author says they are counts of the various disabilities the patient has.\n",
    "* This column will be cleaned by replacing values greater than 1 with 1; the values 2, 3 and 4 will be replaced with 1."
   ]
  },
  {
   "cell_type": "markdown",
   "metadata": {},
   "source": [
    "### Data Cleaning"
   ]
  },
  {
   "cell_type": "code",
   "execution_count": 14,
   "metadata": {},
   "outputs": [
    {
     "data": {
      "text/plain": [
       "Index(['patient_id', 'appointment_id', 'gender', 'scheduled_day',\n",
       "       'appointment_day', 'age', 'neighbourhood', 'scholarship',\n",
       "       'hypertension', 'diabetes', 'alcoholism', 'handicap', 'sms_received',\n",
       "       'no_show'],\n",
       "      dtype='object')"
      ]
     },
     "execution_count": 14,
     "metadata": {},
     "output_type": "execute_result"
    }
   ],
   "source": [
    "# Correct column name spellings, change to lower case and seperate words with underscore.\n",
    "new_col_names = ['patient_id', 'appointment_id', 'gender', 'scheduled_day', \n",
    "                 'appointment_day', 'age', 'neighbourhood', 'scholarship', 'hypertension', \n",
    "                 'diabetes', 'alcoholism', 'handicap', 'sms_received', 'no_show']\n",
    "data.columns = new_col_names\n",
    "data.columns"
   ]
  },
  {
   "cell_type": "code",
   "execution_count": 15,
   "metadata": {},
   "outputs": [],
   "source": [
    "# Convert columns containing dates to the datetime data type.\n",
    "for col in ['scheduled_day', 'appointment_day']:\n",
    "    data[col] = pd.to_datetime(data[col])"
   ]
  },
  {
   "cell_type": "code",
   "execution_count": 16,
   "metadata": {},
   "outputs": [],
   "source": [
    "# Convert the values in the first 2 columns to `strings`.\n",
    "for col in ['patient_id', 'appointment_id']:\n",
    "    data[col] = data[col].astype('str')"
   ]
  },
  {
   "cell_type": "code",
   "execution_count": 17,
   "metadata": {},
   "outputs": [
    {
     "data": {
      "text/plain": [
       "array([0, 1])"
      ]
     },
     "execution_count": 17,
     "metadata": {},
     "output_type": "execute_result"
    }
   ],
   "source": [
    "# Replace values in the 'handicap' column as mentioned above\n",
    "data['handicap'] = data.handicap.apply(lambda x: 1 if x in [2, 3, 4] else x)\n",
    "\n",
    "data.handicap.unique()"
   ]
  },
  {
   "cell_type": "code",
   "execution_count": 18,
   "metadata": {},
   "outputs": [],
   "source": [
    "# Replace values in the columns 'scholarship' to 'sms_received' with 'Yes' or 'No'.\n",
    "for col in data.columns[7:13]:\n",
    "    data[col] = data[col].replace(to_replace={0:'No', 1:'Yes'})"
   ]
  },
  {
   "cell_type": "code",
   "execution_count": 19,
   "metadata": {},
   "outputs": [
    {
     "data": {
      "text/plain": [
       "Int64Index([], dtype='int64')"
      ]
     },
     "execution_count": 19,
     "metadata": {},
     "output_type": "execute_result"
    }
   ],
   "source": [
    "# Remove row where age is -1\n",
    "data = data.drop(index=data.query('age == -1').index)\n",
    "data.query('age == -1').index # Index should be empty"
   ]
  },
  {
   "cell_type": "code",
   "execution_count": 20,
   "metadata": {},
   "outputs": [
    {
     "name": "stdout",
     "output_type": "stream",
     "text": [
      "<class 'pandas.core.frame.DataFrame'>\n",
      "Int64Index: 110526 entries, 0 to 110526\n",
      "Data columns (total 14 columns):\n",
      "patient_id         110526 non-null object\n",
      "appointment_id     110526 non-null object\n",
      "gender             110526 non-null object\n",
      "scheduled_day      110526 non-null datetime64[ns]\n",
      "appointment_day    110526 non-null datetime64[ns]\n",
      "age                110526 non-null int64\n",
      "neighbourhood      110526 non-null object\n",
      "scholarship        110526 non-null object\n",
      "hypertension       110526 non-null object\n",
      "diabetes           110526 non-null object\n",
      "alcoholism         110526 non-null object\n",
      "handicap           110526 non-null object\n",
      "sms_received       110526 non-null object\n",
      "no_show            110526 non-null object\n",
      "dtypes: datetime64[ns](2), int64(1), object(11)\n",
      "memory usage: 12.6+ MB\n"
     ]
    },
    {
     "data": {
      "text/html": [
       "<div>\n",
       "<style scoped>\n",
       "    .dataframe tbody tr th:only-of-type {\n",
       "        vertical-align: middle;\n",
       "    }\n",
       "\n",
       "    .dataframe tbody tr th {\n",
       "        vertical-align: top;\n",
       "    }\n",
       "\n",
       "    .dataframe thead th {\n",
       "        text-align: right;\n",
       "    }\n",
       "</style>\n",
       "<table border=\"1\" class=\"dataframe\">\n",
       "  <thead>\n",
       "    <tr style=\"text-align: right;\">\n",
       "      <th></th>\n",
       "      <th>patient_id</th>\n",
       "      <th>appointment_id</th>\n",
       "      <th>gender</th>\n",
       "      <th>scheduled_day</th>\n",
       "      <th>appointment_day</th>\n",
       "      <th>age</th>\n",
       "      <th>neighbourhood</th>\n",
       "      <th>scholarship</th>\n",
       "      <th>hypertension</th>\n",
       "      <th>diabetes</th>\n",
       "      <th>alcoholism</th>\n",
       "      <th>handicap</th>\n",
       "      <th>sms_received</th>\n",
       "      <th>no_show</th>\n",
       "    </tr>\n",
       "  </thead>\n",
       "  <tbody>\n",
       "    <tr>\n",
       "      <th>0</th>\n",
       "      <td>2.98724998243e+13</td>\n",
       "      <td>5642903</td>\n",
       "      <td>F</td>\n",
       "      <td>2016-04-29 18:38:08</td>\n",
       "      <td>2016-04-29</td>\n",
       "      <td>62</td>\n",
       "      <td>JARDIM DA PENHA</td>\n",
       "      <td>No</td>\n",
       "      <td>Yes</td>\n",
       "      <td>No</td>\n",
       "      <td>No</td>\n",
       "      <td>No</td>\n",
       "      <td>No</td>\n",
       "      <td>No</td>\n",
       "    </tr>\n",
       "    <tr>\n",
       "      <th>1</th>\n",
       "      <td>5.58997776694e+14</td>\n",
       "      <td>5642503</td>\n",
       "      <td>M</td>\n",
       "      <td>2016-04-29 16:08:27</td>\n",
       "      <td>2016-04-29</td>\n",
       "      <td>56</td>\n",
       "      <td>JARDIM DA PENHA</td>\n",
       "      <td>No</td>\n",
       "      <td>No</td>\n",
       "      <td>No</td>\n",
       "      <td>No</td>\n",
       "      <td>No</td>\n",
       "      <td>No</td>\n",
       "      <td>No</td>\n",
       "    </tr>\n",
       "    <tr>\n",
       "      <th>2</th>\n",
       "      <td>4.26296229995e+12</td>\n",
       "      <td>5642549</td>\n",
       "      <td>F</td>\n",
       "      <td>2016-04-29 16:19:04</td>\n",
       "      <td>2016-04-29</td>\n",
       "      <td>62</td>\n",
       "      <td>MATA DA PRAIA</td>\n",
       "      <td>No</td>\n",
       "      <td>No</td>\n",
       "      <td>No</td>\n",
       "      <td>No</td>\n",
       "      <td>No</td>\n",
       "      <td>No</td>\n",
       "      <td>No</td>\n",
       "    </tr>\n",
       "  </tbody>\n",
       "</table>\n",
       "</div>"
      ],
      "text/plain": [
       "          patient_id appointment_id gender       scheduled_day  \\\n",
       "0  2.98724998243e+13        5642903      F 2016-04-29 18:38:08   \n",
       "1  5.58997776694e+14        5642503      M 2016-04-29 16:08:27   \n",
       "2  4.26296229995e+12        5642549      F 2016-04-29 16:19:04   \n",
       "\n",
       "  appointment_day  age    neighbourhood scholarship hypertension diabetes  \\\n",
       "0      2016-04-29   62  JARDIM DA PENHA          No          Yes       No   \n",
       "1      2016-04-29   56  JARDIM DA PENHA          No           No       No   \n",
       "2      2016-04-29   62    MATA DA PRAIA          No           No       No   \n",
       "\n",
       "  alcoholism handicap sms_received no_show  \n",
       "0         No       No           No      No  \n",
       "1         No       No           No      No  \n",
       "2         No       No           No      No  "
      ]
     },
     "execution_count": 20,
     "metadata": {},
     "output_type": "execute_result"
    }
   ],
   "source": [
    "# Confirm changes\n",
    "data.info()\n",
    "data.head(3)"
   ]
  },
  {
   "cell_type": "markdown",
   "metadata": {},
   "source": [
    "* The cleaning steps above were sucessful. However, let's check the time span of the data included in this dataset."
   ]
  },
  {
   "cell_type": "code",
   "execution_count": 21,
   "metadata": {},
   "outputs": [
    {
     "name": "stdout",
     "output_type": "stream",
     "text": [
      "Scheduling spanned 211 days from November 10, 2015 to June 08, 2016\n"
     ]
    }
   ],
   "source": [
    "# What is the time span of the days in which scheduling occurred?\n",
    "print('Scheduling spanned {} days'.format((data.scheduled_day.max() - data.scheduled_day.min()).days), end=' ')\n",
    "print('from {:%B %d, %Y} to {:%B %d, %Y}'.format(data.scheduled_day.min(), data.scheduled_day.max()))"
   ]
  },
  {
   "cell_type": "code",
   "execution_count": 22,
   "metadata": {},
   "outputs": [
    {
     "name": "stdout",
     "output_type": "stream",
     "text": [
      "Appointments span 40 days from April 29, 2016 to June 08, 2016\n"
     ]
    }
   ],
   "source": [
    "# What is the time span of appointment days?\n",
    "print('Appointments span {} days'.format((data.appointment_day.max() - data.appointment_day.min()).days), end=' ')\n",
    "print('from {:%B %d, %Y} to {:%B %d, %Y}'.format(data.appointment_day.min(), data.appointment_day.max()))"
   ]
  },
  {
   "cell_type": "code",
   "execution_count": 23,
   "metadata": {},
   "outputs": [
    {
     "name": "stdout",
     "output_type": "stream",
     "text": [
      "There are 56 instances of such appointments\n"
     ]
    }
   ],
   "source": [
    "# Are there instances of individuals being given, at least, a 5-month appointment?\n",
    "print('There are {} instances of such appointments'.format(\n",
    "    ((data.appointment_day - data.scheduled_day) > pd.Timedelta(150, 'd')).sum()))"
   ]
  },
  {
   "cell_type": "code",
   "execution_count": 24,
   "metadata": {},
   "outputs": [
    {
     "name": "stdout",
     "output_type": "stream",
     "text": [
      "5 entries\n"
     ]
    },
    {
     "data": {
      "text/html": [
       "<div>\n",
       "<style scoped>\n",
       "    .dataframe tbody tr th:only-of-type {\n",
       "        vertical-align: middle;\n",
       "    }\n",
       "\n",
       "    .dataframe tbody tr th {\n",
       "        vertical-align: top;\n",
       "    }\n",
       "\n",
       "    .dataframe thead th {\n",
       "        text-align: right;\n",
       "    }\n",
       "</style>\n",
       "<table border=\"1\" class=\"dataframe\">\n",
       "  <thead>\n",
       "    <tr style=\"text-align: right;\">\n",
       "      <th></th>\n",
       "      <th>patient_id</th>\n",
       "      <th>appointment_id</th>\n",
       "      <th>gender</th>\n",
       "      <th>scheduled_day</th>\n",
       "      <th>appointment_day</th>\n",
       "      <th>age</th>\n",
       "      <th>neighbourhood</th>\n",
       "      <th>scholarship</th>\n",
       "      <th>hypertension</th>\n",
       "      <th>diabetes</th>\n",
       "      <th>alcoholism</th>\n",
       "      <th>handicap</th>\n",
       "      <th>sms_received</th>\n",
       "      <th>no_show</th>\n",
       "    </tr>\n",
       "  </thead>\n",
       "  <tbody>\n",
       "    <tr>\n",
       "      <th>27033</th>\n",
       "      <td>7.83927266175e+12</td>\n",
       "      <td>5679978</td>\n",
       "      <td>M</td>\n",
       "      <td>2016-05-10 10:51:53</td>\n",
       "      <td>2016-05-09</td>\n",
       "      <td>38</td>\n",
       "      <td>RESISTÊNCIA</td>\n",
       "      <td>No</td>\n",
       "      <td>No</td>\n",
       "      <td>No</td>\n",
       "      <td>No</td>\n",
       "      <td>Yes</td>\n",
       "      <td>No</td>\n",
       "      <td>Yes</td>\n",
       "    </tr>\n",
       "    <tr>\n",
       "      <th>55226</th>\n",
       "      <td>7.89629396787e+12</td>\n",
       "      <td>5715660</td>\n",
       "      <td>F</td>\n",
       "      <td>2016-05-18 14:50:41</td>\n",
       "      <td>2016-05-17</td>\n",
       "      <td>19</td>\n",
       "      <td>SANTO ANTÔNIO</td>\n",
       "      <td>No</td>\n",
       "      <td>No</td>\n",
       "      <td>No</td>\n",
       "      <td>No</td>\n",
       "      <td>Yes</td>\n",
       "      <td>No</td>\n",
       "      <td>Yes</td>\n",
       "    </tr>\n",
       "    <tr>\n",
       "      <th>64175</th>\n",
       "      <td>2.425225839e+13</td>\n",
       "      <td>5664962</td>\n",
       "      <td>F</td>\n",
       "      <td>2016-05-05 13:43:58</td>\n",
       "      <td>2016-05-04</td>\n",
       "      <td>22</td>\n",
       "      <td>CONSOLAÇÃO</td>\n",
       "      <td>No</td>\n",
       "      <td>No</td>\n",
       "      <td>No</td>\n",
       "      <td>No</td>\n",
       "      <td>No</td>\n",
       "      <td>No</td>\n",
       "      <td>Yes</td>\n",
       "    </tr>\n",
       "    <tr>\n",
       "      <th>71533</th>\n",
       "      <td>9.98231581612e+14</td>\n",
       "      <td>5686628</td>\n",
       "      <td>F</td>\n",
       "      <td>2016-05-11 13:49:20</td>\n",
       "      <td>2016-05-05</td>\n",
       "      <td>81</td>\n",
       "      <td>SANTO ANTÔNIO</td>\n",
       "      <td>No</td>\n",
       "      <td>No</td>\n",
       "      <td>No</td>\n",
       "      <td>No</td>\n",
       "      <td>No</td>\n",
       "      <td>No</td>\n",
       "      <td>Yes</td>\n",
       "    </tr>\n",
       "    <tr>\n",
       "      <th>72362</th>\n",
       "      <td>3.78748196682e+12</td>\n",
       "      <td>5655637</td>\n",
       "      <td>M</td>\n",
       "      <td>2016-05-04 06:50:57</td>\n",
       "      <td>2016-05-03</td>\n",
       "      <td>7</td>\n",
       "      <td>TABUAZEIRO</td>\n",
       "      <td>No</td>\n",
       "      <td>No</td>\n",
       "      <td>No</td>\n",
       "      <td>No</td>\n",
       "      <td>No</td>\n",
       "      <td>No</td>\n",
       "      <td>Yes</td>\n",
       "    </tr>\n",
       "  </tbody>\n",
       "</table>\n",
       "</div>"
      ],
      "text/plain": [
       "              patient_id appointment_id gender       scheduled_day  \\\n",
       "27033  7.83927266175e+12        5679978      M 2016-05-10 10:51:53   \n",
       "55226  7.89629396787e+12        5715660      F 2016-05-18 14:50:41   \n",
       "64175    2.425225839e+13        5664962      F 2016-05-05 13:43:58   \n",
       "71533  9.98231581612e+14        5686628      F 2016-05-11 13:49:20   \n",
       "72362  3.78748196682e+12        5655637      M 2016-05-04 06:50:57   \n",
       "\n",
       "      appointment_day  age  neighbourhood scholarship hypertension diabetes  \\\n",
       "27033      2016-05-09   38    RESISTÊNCIA          No           No       No   \n",
       "55226      2016-05-17   19  SANTO ANTÔNIO          No           No       No   \n",
       "64175      2016-05-04   22     CONSOLAÇÃO          No           No       No   \n",
       "71533      2016-05-05   81  SANTO ANTÔNIO          No           No       No   \n",
       "72362      2016-05-03    7     TABUAZEIRO          No           No       No   \n",
       "\n",
       "      alcoholism handicap sms_received no_show  \n",
       "27033         No      Yes           No     Yes  \n",
       "55226         No      Yes           No     Yes  \n",
       "64175         No       No           No     Yes  \n",
       "71533         No       No           No     Yes  \n",
       "72362         No       No           No     Yes  "
      ]
     },
     "execution_count": 24,
     "metadata": {},
     "output_type": "execute_result"
    }
   ],
   "source": [
    "# Are there entries where appointments occurred before scheduling?\n",
    "print('{} entries'.format((data.appointment_day < pd.to_datetime(data.scheduled_day.dt.date)).sum()))\n",
    "\n",
    "# View rows where the above occurred.\n",
    "data[(data.appointment_day < pd.to_datetime(data.scheduled_day.dt.date))]"
   ]
  },
  {
   "cell_type": "markdown",
   "metadata": {},
   "source": [
    "* These rows will be dropped since it's impossible for an appointment to occur before scheduling it."
   ]
  },
  {
   "cell_type": "code",
   "execution_count": 25,
   "metadata": {},
   "outputs": [],
   "source": [
    "# Drop the above rows and reset the index and rename the DataFrame\n",
    "index_to_drop = data[(data.appointment_day < pd.to_datetime(data.scheduled_day.dt.date))].index\n",
    "appointments = data.drop(index=index_to_drop).reset_index(drop=True)"
   ]
  },
  {
   "cell_type": "code",
   "execution_count": 26,
   "metadata": {},
   "outputs": [
    {
     "data": {
      "text/plain": [
       "(110521, 14)"
      ]
     },
     "execution_count": 26,
     "metadata": {},
     "output_type": "execute_result"
    }
   ],
   "source": [
    "# Confirm  reduction in no of rows\n",
    "appointments.shape"
   ]
  },
  {
   "cell_type": "markdown",
   "metadata": {},
   "source": [
    "* The number of rows are reduced by five; let's do a final inspection."
   ]
  },
  {
   "cell_type": "code",
   "execution_count": 27,
   "metadata": {},
   "outputs": [
    {
     "data": {
      "text/html": [
       "<div>\n",
       "<style scoped>\n",
       "    .dataframe tbody tr th:only-of-type {\n",
       "        vertical-align: middle;\n",
       "    }\n",
       "\n",
       "    .dataframe tbody tr th {\n",
       "        vertical-align: top;\n",
       "    }\n",
       "\n",
       "    .dataframe thead th {\n",
       "        text-align: right;\n",
       "    }\n",
       "</style>\n",
       "<table border=\"1\" class=\"dataframe\">\n",
       "  <thead>\n",
       "    <tr style=\"text-align: right;\">\n",
       "      <th></th>\n",
       "      <th>count</th>\n",
       "      <th>unique</th>\n",
       "      <th>top</th>\n",
       "      <th>freq</th>\n",
       "      <th>first</th>\n",
       "      <th>last</th>\n",
       "      <th>mean</th>\n",
       "      <th>std</th>\n",
       "      <th>min</th>\n",
       "      <th>25%</th>\n",
       "      <th>50%</th>\n",
       "      <th>75%</th>\n",
       "      <th>max</th>\n",
       "    </tr>\n",
       "  </thead>\n",
       "  <tbody>\n",
       "    <tr>\n",
       "      <th>patient_id</th>\n",
       "      <td>110521</td>\n",
       "      <td>62298</td>\n",
       "      <td>8.22145925426e+14</td>\n",
       "      <td>88</td>\n",
       "      <td>NaN</td>\n",
       "      <td>NaN</td>\n",
       "      <td>NaN</td>\n",
       "      <td>NaN</td>\n",
       "      <td>NaN</td>\n",
       "      <td>NaN</td>\n",
       "      <td>NaN</td>\n",
       "      <td>NaN</td>\n",
       "      <td>NaN</td>\n",
       "    </tr>\n",
       "    <tr>\n",
       "      <th>appointment_id</th>\n",
       "      <td>110521</td>\n",
       "      <td>110521</td>\n",
       "      <td>5703129</td>\n",
       "      <td>1</td>\n",
       "      <td>NaN</td>\n",
       "      <td>NaN</td>\n",
       "      <td>NaN</td>\n",
       "      <td>NaN</td>\n",
       "      <td>NaN</td>\n",
       "      <td>NaN</td>\n",
       "      <td>NaN</td>\n",
       "      <td>NaN</td>\n",
       "      <td>NaN</td>\n",
       "    </tr>\n",
       "    <tr>\n",
       "      <th>gender</th>\n",
       "      <td>110521</td>\n",
       "      <td>2</td>\n",
       "      <td>F</td>\n",
       "      <td>71836</td>\n",
       "      <td>NaN</td>\n",
       "      <td>NaN</td>\n",
       "      <td>NaN</td>\n",
       "      <td>NaN</td>\n",
       "      <td>NaN</td>\n",
       "      <td>NaN</td>\n",
       "      <td>NaN</td>\n",
       "      <td>NaN</td>\n",
       "      <td>NaN</td>\n",
       "    </tr>\n",
       "    <tr>\n",
       "      <th>scheduled_day</th>\n",
       "      <td>110521</td>\n",
       "      <td>103543</td>\n",
       "      <td>2016-05-06 07:09:54</td>\n",
       "      <td>24</td>\n",
       "      <td>2015-11-10 07:13:56</td>\n",
       "      <td>2016-06-08 20:07:23</td>\n",
       "      <td>NaN</td>\n",
       "      <td>NaN</td>\n",
       "      <td>NaN</td>\n",
       "      <td>NaN</td>\n",
       "      <td>NaN</td>\n",
       "      <td>NaN</td>\n",
       "      <td>NaN</td>\n",
       "    </tr>\n",
       "    <tr>\n",
       "      <th>appointment_day</th>\n",
       "      <td>110521</td>\n",
       "      <td>27</td>\n",
       "      <td>2016-06-06 00:00:00</td>\n",
       "      <td>4691</td>\n",
       "      <td>2016-04-29 00:00:00</td>\n",
       "      <td>2016-06-08 00:00:00</td>\n",
       "      <td>NaN</td>\n",
       "      <td>NaN</td>\n",
       "      <td>NaN</td>\n",
       "      <td>NaN</td>\n",
       "      <td>NaN</td>\n",
       "      <td>NaN</td>\n",
       "      <td>NaN</td>\n",
       "    </tr>\n",
       "    <tr>\n",
       "      <th>age</th>\n",
       "      <td>110521</td>\n",
       "      <td>NaN</td>\n",
       "      <td>NaN</td>\n",
       "      <td>NaN</td>\n",
       "      <td>NaN</td>\n",
       "      <td>NaN</td>\n",
       "      <td>37.0894</td>\n",
       "      <td>23.1099</td>\n",
       "      <td>0</td>\n",
       "      <td>18</td>\n",
       "      <td>37</td>\n",
       "      <td>55</td>\n",
       "      <td>115</td>\n",
       "    </tr>\n",
       "    <tr>\n",
       "      <th>neighbourhood</th>\n",
       "      <td>110521</td>\n",
       "      <td>81</td>\n",
       "      <td>JARDIM CAMBURI</td>\n",
       "      <td>7717</td>\n",
       "      <td>NaN</td>\n",
       "      <td>NaN</td>\n",
       "      <td>NaN</td>\n",
       "      <td>NaN</td>\n",
       "      <td>NaN</td>\n",
       "      <td>NaN</td>\n",
       "      <td>NaN</td>\n",
       "      <td>NaN</td>\n",
       "      <td>NaN</td>\n",
       "    </tr>\n",
       "    <tr>\n",
       "      <th>scholarship</th>\n",
       "      <td>110521</td>\n",
       "      <td>2</td>\n",
       "      <td>No</td>\n",
       "      <td>99660</td>\n",
       "      <td>NaN</td>\n",
       "      <td>NaN</td>\n",
       "      <td>NaN</td>\n",
       "      <td>NaN</td>\n",
       "      <td>NaN</td>\n",
       "      <td>NaN</td>\n",
       "      <td>NaN</td>\n",
       "      <td>NaN</td>\n",
       "      <td>NaN</td>\n",
       "    </tr>\n",
       "    <tr>\n",
       "      <th>hypertension</th>\n",
       "      <td>110521</td>\n",
       "      <td>2</td>\n",
       "      <td>No</td>\n",
       "      <td>88720</td>\n",
       "      <td>NaN</td>\n",
       "      <td>NaN</td>\n",
       "      <td>NaN</td>\n",
       "      <td>NaN</td>\n",
       "      <td>NaN</td>\n",
       "      <td>NaN</td>\n",
       "      <td>NaN</td>\n",
       "      <td>NaN</td>\n",
       "      <td>NaN</td>\n",
       "    </tr>\n",
       "    <tr>\n",
       "      <th>diabetes</th>\n",
       "      <td>110521</td>\n",
       "      <td>2</td>\n",
       "      <td>No</td>\n",
       "      <td>102578</td>\n",
       "      <td>NaN</td>\n",
       "      <td>NaN</td>\n",
       "      <td>NaN</td>\n",
       "      <td>NaN</td>\n",
       "      <td>NaN</td>\n",
       "      <td>NaN</td>\n",
       "      <td>NaN</td>\n",
       "      <td>NaN</td>\n",
       "      <td>NaN</td>\n",
       "    </tr>\n",
       "    <tr>\n",
       "      <th>alcoholism</th>\n",
       "      <td>110521</td>\n",
       "      <td>2</td>\n",
       "      <td>No</td>\n",
       "      <td>107161</td>\n",
       "      <td>NaN</td>\n",
       "      <td>NaN</td>\n",
       "      <td>NaN</td>\n",
       "      <td>NaN</td>\n",
       "      <td>NaN</td>\n",
       "      <td>NaN</td>\n",
       "      <td>NaN</td>\n",
       "      <td>NaN</td>\n",
       "      <td>NaN</td>\n",
       "    </tr>\n",
       "    <tr>\n",
       "      <th>handicap</th>\n",
       "      <td>110521</td>\n",
       "      <td>2</td>\n",
       "      <td>No</td>\n",
       "      <td>108282</td>\n",
       "      <td>NaN</td>\n",
       "      <td>NaN</td>\n",
       "      <td>NaN</td>\n",
       "      <td>NaN</td>\n",
       "      <td>NaN</td>\n",
       "      <td>NaN</td>\n",
       "      <td>NaN</td>\n",
       "      <td>NaN</td>\n",
       "      <td>NaN</td>\n",
       "    </tr>\n",
       "    <tr>\n",
       "      <th>sms_received</th>\n",
       "      <td>110521</td>\n",
       "      <td>2</td>\n",
       "      <td>No</td>\n",
       "      <td>75039</td>\n",
       "      <td>NaN</td>\n",
       "      <td>NaN</td>\n",
       "      <td>NaN</td>\n",
       "      <td>NaN</td>\n",
       "      <td>NaN</td>\n",
       "      <td>NaN</td>\n",
       "      <td>NaN</td>\n",
       "      <td>NaN</td>\n",
       "      <td>NaN</td>\n",
       "    </tr>\n",
       "    <tr>\n",
       "      <th>no_show</th>\n",
       "      <td>110521</td>\n",
       "      <td>2</td>\n",
       "      <td>No</td>\n",
       "      <td>88207</td>\n",
       "      <td>NaN</td>\n",
       "      <td>NaN</td>\n",
       "      <td>NaN</td>\n",
       "      <td>NaN</td>\n",
       "      <td>NaN</td>\n",
       "      <td>NaN</td>\n",
       "      <td>NaN</td>\n",
       "      <td>NaN</td>\n",
       "      <td>NaN</td>\n",
       "    </tr>\n",
       "  </tbody>\n",
       "</table>\n",
       "</div>"
      ],
      "text/plain": [
       "                  count  unique                  top    freq  \\\n",
       "patient_id       110521   62298    8.22145925426e+14      88   \n",
       "appointment_id   110521  110521              5703129       1   \n",
       "gender           110521       2                    F   71836   \n",
       "scheduled_day    110521  103543  2016-05-06 07:09:54      24   \n",
       "appointment_day  110521      27  2016-06-06 00:00:00    4691   \n",
       "age              110521     NaN                  NaN     NaN   \n",
       "neighbourhood    110521      81       JARDIM CAMBURI    7717   \n",
       "scholarship      110521       2                   No   99660   \n",
       "hypertension     110521       2                   No   88720   \n",
       "diabetes         110521       2                   No  102578   \n",
       "alcoholism       110521       2                   No  107161   \n",
       "handicap         110521       2                   No  108282   \n",
       "sms_received     110521       2                   No   75039   \n",
       "no_show          110521       2                   No   88207   \n",
       "\n",
       "                               first                 last     mean      std  \\\n",
       "patient_id                       NaN                  NaN      NaN      NaN   \n",
       "appointment_id                   NaN                  NaN      NaN      NaN   \n",
       "gender                           NaN                  NaN      NaN      NaN   \n",
       "scheduled_day    2015-11-10 07:13:56  2016-06-08 20:07:23      NaN      NaN   \n",
       "appointment_day  2016-04-29 00:00:00  2016-06-08 00:00:00      NaN      NaN   \n",
       "age                              NaN                  NaN  37.0894  23.1099   \n",
       "neighbourhood                    NaN                  NaN      NaN      NaN   \n",
       "scholarship                      NaN                  NaN      NaN      NaN   \n",
       "hypertension                     NaN                  NaN      NaN      NaN   \n",
       "diabetes                         NaN                  NaN      NaN      NaN   \n",
       "alcoholism                       NaN                  NaN      NaN      NaN   \n",
       "handicap                         NaN                  NaN      NaN      NaN   \n",
       "sms_received                     NaN                  NaN      NaN      NaN   \n",
       "no_show                          NaN                  NaN      NaN      NaN   \n",
       "\n",
       "                 min  25%  50%  75%  max  \n",
       "patient_id       NaN  NaN  NaN  NaN  NaN  \n",
       "appointment_id   NaN  NaN  NaN  NaN  NaN  \n",
       "gender           NaN  NaN  NaN  NaN  NaN  \n",
       "scheduled_day    NaN  NaN  NaN  NaN  NaN  \n",
       "appointment_day  NaN  NaN  NaN  NaN  NaN  \n",
       "age                0   18   37   55  115  \n",
       "neighbourhood    NaN  NaN  NaN  NaN  NaN  \n",
       "scholarship      NaN  NaN  NaN  NaN  NaN  \n",
       "hypertension     NaN  NaN  NaN  NaN  NaN  \n",
       "diabetes         NaN  NaN  NaN  NaN  NaN  \n",
       "alcoholism       NaN  NaN  NaN  NaN  NaN  \n",
       "handicap         NaN  NaN  NaN  NaN  NaN  \n",
       "sms_received     NaN  NaN  NaN  NaN  NaN  \n",
       "no_show          NaN  NaN  NaN  NaN  NaN  "
      ]
     },
     "execution_count": 27,
     "metadata": {},
     "output_type": "execute_result"
    }
   ],
   "source": [
    "appointments.describe(include='all').T"
   ]
  },
  {
   "cell_type": "markdown",
   "metadata": {},
   "source": [
    "* We see that the mean and median age is still 37.\n",
    "* Also, most patients received SMS messages."
   ]
  },
  {
   "cell_type": "markdown",
   "metadata": {},
   "source": [
    "<a id='eda'></a>\n",
    "## Exploratory Data Analysis\n",
    "\n",
    "\n",
    "### What are the age and gender characteristics of patients who do not show up for their appointments and vice-versa?"
   ]
  },
  {
   "cell_type": "code",
   "execution_count": 28,
   "metadata": {},
   "outputs": [],
   "source": [
    "# Define a function to add labels and titles.\n",
    "def add_labels(title='', xlabel='', ylabel='', tsize=16):\n",
    "    plt.xlabel(xlabel)\n",
    "    plt.ylabel(ylabel)\n",
    "    plt.title(title, fontsize=tsize)\n",
    "    return\n",
    "\n",
    "# A function to get groupby counts and proportions for specified columns/variables\n",
    "def get_counts_props(groupby_col):\n",
    "    \"\"\"\n",
    "    Takes a string or list of strings as input denoting column names and\n",
    "    returns a a tuple of counts and proportions of values in the specified\n",
    "    columns\n",
    "    \"\"\"\n",
    "    \n",
    "    counts = appointments.groupby(groupby_col)['patient_id'].count()\n",
    "    totals = appointments.groupby(groupby_col[0])['patient_id'].count()\n",
    "    props = counts / totals\n",
    "    \n",
    "    return counts, props\n",
    "\n",
    "# Set a default figure size\n",
    "plt.rcParams['figure.figsize'] = (9,4)"
   ]
  },
  {
   "cell_type": "code",
   "execution_count": 29,
   "metadata": {},
   "outputs": [
    {
     "data": {
      "image/png": "[encoded data removed]",
      "text/plain": [
       "<matplotlib.figure.Figure at 0x7f5a39920a20>"
      ]
     },
     "metadata": {
      "needs_background": "light"
     },
     "output_type": "display_data"
    }
   ],
   "source": [
    "# Plot distribution of patient ages\n",
    "bins = np.arange(0, appointments.age.max()+5, 5)\n",
    "appointments.age.plot.hist(bins=bins)\n",
    "add_labels('Distribution of Patient Ages', 'Age', 'Frequency');"
   ]
  },
  {
   "cell_type": "markdown",
   "metadata": {},
   "source": [
    "* Patients between age 0 to 5 are the most common demographic.\n",
    "* There's a fairly stable representation across ages from 5 to 65 and a significant drop in frequency after 70 years; a right-skewed distribution."
   ]
  },
  {
   "cell_type": "code",
   "execution_count": 30,
   "metadata": {},
   "outputs": [
    {
     "data": {
      "image/png": "[encoded data removed]",
      "text/plain": [
       "<matplotlib.figure.Figure at 0x7f5a38677e48>"
      ]
     },
     "metadata": {
      "needs_background": "light"
     },
     "output_type": "display_data"
    }
   ],
   "source": [
    "# Is there a marked difference in age distribution for patients who did not show up for appointments?\n",
    "\n",
    "# Split data into those who showed and those who didn't\n",
    "show = appointments.query('no_show == \"No\"').copy()\n",
    "no_show = appointments.query('no_show == \"Yes\"').copy()\n",
    "\n",
    "# plot subplots of both and then only no-shows\n",
    "plt.figure(figsize=(18,5))\n",
    "base_color = sns.color_palette()[0]\n",
    "color1 = sns.color_palette()[1]\n",
    "\n",
    "# Histogram 1\n",
    "plt.subplot(121)\n",
    "plt.hist(show.age, bins=bins, alpha=0.6, label='Show')\n",
    "plt.hist(no_show.age, bins=bins, alpha=0.6, label='No-show', color=color1)\n",
    "add_labels('Distribution of Ages: Show and No-show', 'Age', 'Frequency', tsize=14)\n",
    "plt.legend();\n",
    "\n",
    "# Histogram 2\n",
    "plt.subplot(122)\n",
    "plt.hist(no_show.age, bins=bins, alpha=0.7, label='No-show', color=color1)\n",
    "add_labels('Distribution of Ages: No-show', 'Age', 'Frequency', tsize=14);"
   ]
  },
  {
   "cell_type": "markdown",
   "metadata": {},
   "source": [
    "* As previously noted, more patients showed up for their appointments than not.\n",
    "* The age distribution for no-shows roughly matches that for 'shows' with a corresponding right skew despite a lower frequency count across ages."
   ]
  },
  {
   "cell_type": "code",
   "execution_count": 31,
   "metadata": {
    "scrolled": true
   },
   "outputs": [
    {
     "data": {
      "image/png": "[encoded data removed]",
      "text/plain": [
       "<matplotlib.figure.Figure at 0x7f5a3854bf60>"
      ]
     },
     "metadata": {
      "needs_background": "light"
     },
     "output_type": "display_data"
    }
   ],
   "source": [
    "# Do certain age categories meet up with their appointments more than others?\n",
    "\n",
    "# Get age categories\n",
    "age_bins = [0, 6, 11, 18, 45, 65, 120]\n",
    "age_labels = ['Child', 'School-aged', 'Teenager', 'Adult', 'Middle-aged', 'Elderly']\n",
    "appointments['age_category'] = pd.cut(appointments.age, bins=age_bins, labels=age_labels)\n",
    "\n",
    "# Get counts and proportions per age category and appointment status\n",
    "age_cat_counts, age_cat_props = get_counts_props(['age_category', 'no_show'])\n",
    "\n",
    "# Plot subplots\n",
    "plt.figure(figsize=(18,5))\n",
    "\n",
    "plt.subplot(121)\n",
    "sns.barplot(x='age_category', y='patient_id', hue='no_show', data=age_cat_counts.reset_index())\n",
    "add_labels(xlabel='Age Category', ylabel='Count')\n",
    "plt.legend(title='No show', loc=1);\n",
    "\n",
    "plt.subplot(122)\n",
    "sns.barplot(x='age_category', y='patient_id', hue='no_show', data=age_cat_props.reset_index())\n",
    "add_labels(xlabel='Age Category', ylabel='Proportion')\n",
    "plt.legend(title='No show', bbox_to_anchor=(1.06, 1))\n",
    "plt.suptitle('Distribution of No-shows by Age Category', fontsize=17);"
   ]
  },
  {
   "cell_type": "markdown",
   "metadata": {},
   "source": [
    "* Adults have the highest counts of patient categories that met their appointments as well as those who didn't. This is followed by the middle-aged and elderly demographics.\n",
    "* Teenagers however are the highest proportion of those who do not show up for their appointments. The elderly met their appointments the most having, correspondingly, the lowest proportion of no-shows."
   ]
  },
  {
   "cell_type": "code",
   "execution_count": 32,
   "metadata": {},
   "outputs": [
    {
     "data": {
      "image/png": "[encoded data removed]",
      "text/plain": [
       "<matplotlib.figure.Figure at 0x7f5a385bf470>"
      ]
     },
     "metadata": {
      "needs_background": "light"
     },
     "output_type": "display_data"
    }
   ],
   "source": [
    "# View the gender distribution\n",
    "appointments.gender.value_counts().plot.bar(rot=0, color=base_color)\n",
    "add_labels('Gender distribution', ylabel='Count')\n",
    "plt.xticks([0,1], ['Female', 'Male']);"
   ]
  },
  {
   "cell_type": "markdown",
   "metadata": {},
   "source": [
    "* There are almost twice as much females as males represented in the dataset."
   ]
  },
  {
   "cell_type": "code",
   "execution_count": 33,
   "metadata": {},
   "outputs": [
    {
     "data": {
      "image/png": "[encoded data removed]",
      "text/plain": [
       "<matplotlib.figure.Figure at 0x7f5a3591a0b8>"
      ]
     },
     "metadata": {
      "needs_background": "light"
     },
     "output_type": "display_data"
    }
   ],
   "source": [
    "# Do males account for more of the no-shows or vice-versa?\n",
    "gender_appt_cnts, gender_appt_props = get_counts_props(['gender', 'no_show'])\n",
    "gender_appt_pcent = gender_appt_props * 100\n",
    "\n",
    "sns.barplot(data=gender_appt_pcent.reset_index(), x='gender', y='patient_id', hue='no_show')\n",
    "add_labels('Appointment Attendance by Gender', 'Gender', 'Percent (%)')\n",
    "plt.xticks([0,1], ['Female', 'Male']);\n",
    "plt.legend(title='No show');"
   ]
  },
  {
   "cell_type": "markdown",
   "metadata": {},
   "source": [
    "* There are similar rates of missed appointments (around 20%) for both sexes."
   ]
  },
  {
   "cell_type": "markdown",
   "metadata": {},
   "source": [
    "### What days of the week do people show up more? Are there patterns in daily appointments for shows and no-shows?"
   ]
  },
  {
   "cell_type": "code",
   "execution_count": 34,
   "metadata": {},
   "outputs": [
    {
     "data": {
      "text/plain": [
       "appt_day_name\n",
       "Wednesday    25866\n",
       "Tuesday      25638\n",
       "Monday       22713\n",
       "Friday       19019\n",
       "Thursday     17246\n",
       "Saturday        39\n",
       "Name: patient_id, dtype: int64"
      ]
     },
     "execution_count": 34,
     "metadata": {},
     "output_type": "execute_result"
    }
   ],
   "source": [
    "# Create a column containing the weekday names for each date\n",
    "appointments['appt_day_name'] = appointments.appointment_day.dt.day_name()\n",
    "\n",
    "# View frequency table for days of the week\n",
    "appointments.groupby('appt_day_name')['patient_id'].count().sort_values(ascending=False)"
   ]
  },
  {
   "cell_type": "markdown",
   "metadata": {},
   "source": [
    "* Appointments are hardly scheduled for Saturdays and no appointments were scheduled for Sunday. This may be due to Sunday being an official weekend in Brazil"
   ]
  },
  {
   "cell_type": "code",
   "execution_count": 35,
   "metadata": {},
   "outputs": [
    {
     "data": {
      "image/png": "[encoded data removed]",
      "text/plain": [
       "<matplotlib.figure.Figure at 0x7f5a3521ac88>"
      ]
     },
     "metadata": {
      "needs_background": "light"
     },
     "output_type": "display_data"
    }
   ],
   "source": [
    "# View aggregate no of appointments for each weekday for the entire dataset splitting into shows and no-shows.\n",
    "week_days = ['Monday', 'Tuesday', 'Wednesday', 'Thursday', 'Friday', 'Saturday']\n",
    "\n",
    "# Get counts and proportions\n",
    "wkday_count, wkday_props = get_counts_props(['appt_day_name', 'no_show'])\n",
    "\n",
    "# Plot\n",
    "plt.figure(figsize=(18,5))\n",
    "\n",
    "plt.subplot(121)\n",
    "sns.barplot(x='appt_day_name', y='patient_id', hue='no_show', order=week_days,\n",
    "            data=wkday_count.reset_index())\n",
    "add_labels(xlabel='Weekday', ylabel='Count')\n",
    "plt.legend(title='No show', loc=1);\n",
    "\n",
    "plt.subplot(122)\n",
    "sns.barplot(x='appt_day_name', y='patient_id', hue='no_show', order=week_days,\n",
    "            data=wkday_props.reset_index())\n",
    "add_labels(xlabel='Weekday', ylabel='Proportion')\n",
    "plt.legend(title='No show', bbox_to_anchor=(1.06, 1))\n",
    "plt.suptitle('Distribution of No-shows by Day of the Week', fontsize=17);"
   ]
  },
  {
   "cell_type": "markdown",
   "metadata": {},
   "source": [
    "* Appointments seem to be met more during the first three days of the week with a reduction on Thursdays and Fridays when viewing counts with Wednesday having the aggregate highest no of appointments met.\n",
    "* The bar plot showing proportions on the right however shows an approximately 20% to 80% ratio across categories in those who missed their appointments compared to those who didn't. This is the same ratio seen as for gender above."
   ]
  },
  {
   "cell_type": "code",
   "execution_count": 36,
   "metadata": {},
   "outputs": [
    {
     "data": {
      "image/png": "[encoded data removed]",
      "text/plain": [
       "<matplotlib.figure.Figure at 0x7f5a358a4cf8>"
      ]
     },
     "metadata": {
      "needs_background": "light"
     },
     "output_type": "display_data"
    }
   ],
   "source": [
    "# Are there interesting patterns in the daily counts of people who attended their appointments and vice-versa?\n",
    "show.groupby('appointment_day')['patient_id'].count().plot.line()\n",
    "add_labels('Daily Met Appointments', 'Appointment Date', 'Count');"
   ]
  },
  {
   "cell_type": "code",
   "execution_count": 37,
   "metadata": {},
   "outputs": [
    {
     "data": {
      "image/png": "[encoded data removed]",
      "text/plain": [
       "<matplotlib.figure.Figure at 0x7f5a35174518>"
      ]
     },
     "metadata": {
      "needs_background": "light"
     },
     "output_type": "display_data"
    }
   ],
   "source": [
    "# No-shows\n",
    "no_show.groupby('appointment_day')['patient_id'].count().plot.line();\n",
    "add_labels('Daily Missed Appointments', 'Appointment Date', 'Count');"
   ]
  },
  {
   "cell_type": "markdown",
   "metadata": {},
   "source": [
    "* We see a marked reduction in patient attendance and a corresponding reduction in missed appointments around the 14th of May, 2016. This corresponds to the only Saturday that had scheduled appointments in the dataset.\n",
    "* There's otherwise a daily variation of about 500-1000 patients for met appointments and 200 for missed appointments."
   ]
  },
  {
   "cell_type": "markdown",
   "metadata": {},
   "source": [
    "### Are those who received SMS more likely to attend their appointments?"
   ]
  },
  {
   "cell_type": "code",
   "execution_count": 38,
   "metadata": {},
   "outputs": [
    {
     "data": {
      "image/png": "[encoded data removed]",
      "text/plain": [
       "<matplotlib.figure.Figure at 0x7f5a358a4f98>"
      ]
     },
     "metadata": {
      "needs_background": "light"
     },
     "output_type": "display_data"
    }
   ],
   "source": [
    "sms_appt_cnts, sms_appt_props = get_counts_props(['sms_received', 'no_show'])\n",
    "\n",
    "# Plot\n",
    "plt.figure(figsize=(18,5))\n",
    "\n",
    "plt.subplot(121)\n",
    "sns.barplot(x='sms_received', y='patient_id', hue='no_show', data=sms_appt_cnts.reset_index())\n",
    "add_labels(xlabel='Received SMS', ylabel='Count')\n",
    "plt.legend(title='No show', loc=1);\n",
    "\n",
    "plt.subplot(122)\n",
    "sns.barplot(x='sms_received', y='patient_id', hue='no_show', data=sms_appt_props.reset_index())\n",
    "add_labels(xlabel='Received SMS', ylabel='Proportion')\n",
    "plt.legend(title='No show', bbox_to_anchor=(1.06, 1))\n",
    "plt.suptitle('Distribution of No-shows by SMS Receival', fontsize=17);"
   ]
  },
  {
   "cell_type": "markdown",
   "metadata": {},
   "source": [
    "* Those who received an SMS regarding their appointment were more surprisingly more likely to miss their appointments."
   ]
  },
  {
   "cell_type": "markdown",
   "metadata": {},
   "source": [
    "<a id='conclusions'></a>\n",
    "## Conclusions\n",
    "\n",
    "> From the exploration done above, we see that although more females are captured in the dataset, the ratio of missed to met appointments is approximately 80:20. This same relationship is seen when viewing proportions of met to missed appointments (show to no-show) aggregated over the days of the week, despite certain days having more appointments met than others. This suggests that gender and particular days of the week cannot be associated with increased likelihood of missing appointments.\n",
    "\n",
    "> There are however two insights that need further exploration. The increased likelihood of teenagers missing their appointments and the observation that those who receive SMS messages about appointments tend to miss their appointments more.\n",
    "Further exploration of why there are only 39 appointments scheduled for a particular Saturday (the only Saturday recorded in the dataset) could yield further insight. It would also be a good idea to explore reasons for 5-month appointments as seen in the data. Informations gotten from these might lead to a decision to remove these rows from the data.\n",
    "\n",
    "\n",
    "### Limitations\n",
    "\n",
    "> Even though appointments were scheduled over almost a year, dates of appointments captured in the dataset were restricted to just over a month. A longer date range for appointments would lend itself to better and more useful analysis.\n",
    "Only descriptive analytical techniques were used for this project. Analysis with inferential statistical techniques or machine learning modelling is needed before insights can be confirmed or relied on.\n"
   ]
  },
  {
   "cell_type": "code",
   "execution_count": 39,
   "metadata": {},
   "outputs": [
    {
     "data": {
      "text/plain": [
       "0"
      ]
     },
     "execution_count": 39,
     "metadata": {},
     "output_type": "execute_result"
    }
   ],
   "source": [
    "from subprocess import call\n",
    "call(['python', '-m', 'nbconvert', 'Investigate_a_Dataset.ipynb'])"
   ]
  }
 ],
 "metadata": {
  "kernelspec": {
   "display_name": "Python 3",
   "language": "python",
   "name": "python3"
  },
  "language_info": {
   "codemirror_mode": {
    "name": "ipython",
    "version": 3
   },
   "file_extension": ".py",
   "mimetype": "text/x-python",
   "name": "python",
   "nbconvert_exporter": "python",
   "pygments_lexer": "ipython3",
   "version": "3.6.3"
  }
 },
 "nbformat": 4,
 "nbformat_minor": 2
}
